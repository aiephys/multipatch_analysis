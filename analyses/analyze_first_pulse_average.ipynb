{
 "cells": [
  {
   "cell_type": "code",
   "execution_count": 1,
   "metadata": {},
   "outputs": [
    {
     "name": "stdout",
     "output_type": "stream",
     "text": [
      "60\n"
     ]
    }
   ],
   "source": [
    "\"\"\"Analyse relationships between items in the average_first_pulse_fit table \n",
    "\"\"\"\n",
    "\n",
    "from multipatch_analysis.database import database as db\n",
    "from multipatch_analysis.first_pulse_fits_average import AvgFirstPulseFitsForceSign \n",
    "#from multipatch_analysis.database.database import TableGroup\n",
    "import multipatch_analysis.connection_strength as cs \n",
    "import pandas as pd\n",
    "import seaborn as sns"
   ]
  },
  {
   "cell_type": "code",
   "execution_count": 3,
   "metadata": {},
   "outputs": [],
   "source": [
    "#THIS DOES QUERY, EXTRACTS DATA, AND SAVES IN A CSV.\n",
    "'''Note that this query can take several minutes'''\n",
    "data_dict= {'uid':[],\n",
    "            'pre_cell_id':[],\n",
    "            'post_cell_id':[],\n",
    "            'pre_cre':[],\n",
    "            'post_cre':[],\n",
    "            'amp':[], \n",
    "            'NRMSE':[], \n",
    "            'decay_tau':[], \n",
    "            'latency':[], \n",
    "            'rise_time':[], \n",
    "            'syn_excitation':[],\n",
    "            'distance':[],\n",
    "            'boolean_connection':[],\n",
    "            'acsf':[],\n",
    "            'measured_amp':[],\n",
    "            'measured_baseline':[],\n",
    "            'n_sweeps':[]}\n",
    "\n",
    "session=db.Session()\n",
    "data=session.query(AvgFirstPulseFitsForceSign, db.Pair).join(db.Pair).all()\n",
    "# extract the relevant data from the query\n",
    "for afpf, pair in data:\n",
    "    #stuff from average_first_pulse_fit table\n",
    "    data_dict['uid'].append(afpf.__dict__['uid'])\n",
    "    data_dict['pre_cell_id'].append(afpf.__dict__['pre_cell_id'])\n",
    "    data_dict['post_cell_id'].append(afpf.__dict__['post_cell_id'])\n",
    "    data_dict['amp'].append(afpf.__dict__['amp'])\n",
    "    data_dict['NRMSE'].append(afpf.__dict__['NRMSE'])\n",
    "    data_dict['decay_tau'].append(afpf.__dict__['decay_tau'])\n",
    "    data_dict['rise_time'].append(afpf.__dict__['rise_time'])\n",
    "    data_dict['latency'].append(afpf.__dict__['latency'])\n",
    "    data_dict['boolean_connection'].append(afpf.__dict__['connected'])\n",
    "    data_dict['syn_excitation'].append(afpf.__dict__['synapse_sign'])\n",
    "    data_dict['measured_amp'].append(afpf.__dict__['measured_amp'])\n",
    "    data_dict['measured_baseline'].append(afpf.__dict__['measured_baseline'])\n",
    "    data_dict['n_sweeps'].append(afpf.__dict__['n_sweeps'])\n",
    "    #stuff from pair table\n",
    "    data_dict['pre_cre'].append(pair.pre_cell.cre_type)\n",
    "    data_dict['post_cre'].append(pair.post_cell.cre_type)\n",
    "    data_dict['distance'].append(pair.distance)\n",
    "    data_dict['acsf'].append(pair.experiment.acsf)\n",
    "session.close()\n",
    "df=pd.DataFrame(data_dict)\n",
    "#df.to_csv('average_fit_forced_sign_10_01_18.csv')  #comment out after using so dont overwrite something"
   ]
  },
  {
   "cell_type": "code",
   "execution_count": null,
   "metadata": {},
   "outputs": [],
   "source": [
    "#load data from csv created from query and data extraction above\n",
    "#df=pd.read_csv('average_fit_forced_sign_9_26_18.csv')  #data loaded from query above\n",
    "df=pd.read_csv('average_fit_any_sign_10_01_18.csv')"
   ]
  },
  {
   "cell_type": "code",
   "execution_count": null,
   "metadata": {},
   "outputs": [],
   "source": [
    "# sns.set()\n",
    "# sns.lmplot(x=\"NRMSE\", y=\"distance\", hue=\"syn_excitation\", data=df)\n",
    "# sns.lmplot(x=\"NRMSE\", y=\"latency\", hue=\"syn_excitation\", data=df)\n",
    "# sns.lmplot(x=\"NRMSE\", y=\"decay_tau\", hue=\"syn_excitation\", data=df)\n",
    "# sns.lmplot(x=\"NRMSE\", y=\"rise_time\", hue=\"syn_excitation\", data=df)\n",
    "# sns.lmplot(x=\"NRMSE\", y=\"amp\", hue=\"syn_excitation\", data=df)\n",
    "\n"
   ]
  },
  {
   "cell_type": "code",
   "execution_count": null,
   "metadata": {},
   "outputs": [],
   "source": [
    "plotting_df=df[df.distance<1e10]\n",
    "sns.set(style=\"ticks\")\n",
    "sns.pairplot(plotting_df, vars=['distance','amp','decay_tau', 'latency', 'rise_time', 'NRMSE'], hue='boolean_connection')"
   ]
  },
  {
   "cell_type": "code",
   "execution_count": null,
   "metadata": {},
   "outputs": [],
   "source": [
    "plotting_df=df[(df.distance<1e10) & (df.boolean_connection==True)]\n",
    "sns.set(style=\"ticks\")\n",
    "sns.pairplot(plotting_df, \n",
    "             vars=['distance','amp','decay_tau', 'latency', 'rise_time', 'NRMSE'], \n",
    "             hue='syn_excitation')"
   ]
  },
  {
   "cell_type": "code",
   "execution_count": null,
   "metadata": {},
   "outputs": [],
   "source": [
    "plotting_df=df[(df.distance<1e10) & (df.boolean_connection==True)]\n",
    "sns.set(style=\"ticks\")\n",
    "sns.pairplot(plotting_df, \n",
    "             vars=['distance','amp','decay_tau', 'latency', 'rise_time', 'NRMSE'], \n",
    "             hue='acsf')\n"
   ]
  },
  {
   "cell_type": "code",
   "execution_count": null,
   "metadata": {},
   "outputs": [],
   "source": [
    "plotting_df=df[(df.distance<1e10) & (df.boolean_connection==True) & (df.NRMSE<8)]\n",
    "sns.set(style=\"ticks\")\n",
    "sns.pairplot(plotting_df, vars=['distance','amp','decay_tau', 'latency', 'rise_time', 'NRMSE'], hue='syn_excitation')\n"
   ]
  },
  {
   "cell_type": "code",
   "execution_count": null,
   "metadata": {},
   "outputs": [],
   "source": []
  }
 ],
 "metadata": {
  "kernelspec": {
   "display_name": "Python 2",
   "language": "python",
   "name": "python2"
  },
  "language_info": {
   "codemirror_mode": {
    "name": "ipython",
    "version": 2
   },
   "file_extension": ".py",
   "mimetype": "text/x-python",
   "name": "python",
   "nbconvert_exporter": "python",
   "pygments_lexer": "ipython2",
   "version": "2.7.15"
  }
 },
 "nbformat": 4,
 "nbformat_minor": 2
}
