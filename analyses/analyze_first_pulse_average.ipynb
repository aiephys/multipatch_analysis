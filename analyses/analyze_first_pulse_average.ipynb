{
 "cells": [
  {
   "cell_type": "code",
   "execution_count": null,
   "metadata": {
    "scrolled": true
   },
   "outputs": [],
   "source": [
    "\"\"\"Analyse relationships between items in the average_first_pulse_fit table \n",
    "\"\"\"\n",
    "import pandas as pd\n",
    "import seaborn as sns\n",
    "import matplotlib.pyplot as plt\n",
    "%matplotlib inline  \n",
    "import os\n",
    "import numpy as np\n"
   ]
  },
  {
   "cell_type": "code",
   "execution_count": null,
   "metadata": {
    "scrolled": true
   },
   "outputs": [],
   "source": [
    "#load data from csv created from extract_first_pulse_fit_from_DB.py\n",
    "#df=pd.read_csv('average_fit_dynamic_weight_2018_10_29.csv')\n",
    "#df=pd.read_csv('average_fit_latency_jitter_2018_11_01.csv')\n",
    "#df=pd.read_csv('average_fit_vclamp_2018_11_15.csv') #note that this version did not have the zero weight cross-talk\n",
    "df=pd.read_csv('average_fit_vclamp_2018_12_06.csv') #note that this version did not have the zero weight cross-talk\n",
    "df['uid']=df.apply(lambda row: \"%.3f\" % float(row.uid), axis=1)"
   ]
  },
  {
   "cell_type": "code",
   "execution_count": null,
   "metadata": {},
   "outputs": [],
   "source": [
    "df.keys()\n"
   ]
  },
  {
   "cell_type": "code",
   "execution_count": null,
   "metadata": {
    "scrolled": true
   },
   "outputs": [],
   "source": [
    "plotting_df=df[df.distance<1e10]\n",
    "sns.set(style=\"ticks\")\n",
    "sns.pairplot(plotting_df, vars=['distance','amp','decay_tau', 'latency', 'rise_time', 'NRMSE'], hue='boolean_connection')"
   ]
  },
  {
   "cell_type": "code",
   "execution_count": null,
   "metadata": {},
   "outputs": [],
   "source": [
    "plotting_df=df[(df.distance<1e10) & (df.boolean_connection==True)]\n",
    "g=sns.pairplot(plotting_df, \n",
    "             vars=['distance','amp','decay_tau', 'latency', 'rise_time', 'NRMSE'], \n",
    "             hue='syn_excitation')\n",
    "g.fig.suptitle('All connections (forced sign fitting)', fontsize=24)\n",
    "g.fig.subplots_adjust(top=.93)"
   ]
  },
  {
   "cell_type": "code",
   "execution_count": null,
   "metadata": {
    "scrolled": true
   },
   "outputs": [],
   "source": [
    "df.keys()"
   ]
  },
  {
   "cell_type": "code",
   "execution_count": null,
   "metadata": {
    "scrolled": true
   },
   "outputs": [],
   "source": [
    "# Lets look at the short latency blip.\n",
    "short_latency=df[(df.distance<1e10) & (df.boolean_connection==True) & (df.latency<.00001) & \n",
    "                 (df.syn_excitation=='in') & (df.n_sweeps>=10)][['uid','pre_cell_id','post_cell_id', 'amp',\n",
    "                                             'image_path', 'latency', 'NRMSE', 'n_sweeps']].sort_values(by='uid')\n"
   ]
  },
  {
   "cell_type": "code",
   "execution_count": null,
   "metadata": {
    "scrolled": true
   },
   "outputs": [],
   "source": [
    "pd.options.display.max_colwidth=200\n",
    "print(short_latency[['uid','pre_cell_id', 'post_cell_id', 'latency', 'amp', 'NRMSE', 'n_sweeps']].to_string())"
   ]
  },
  {
   "cell_type": "code",
   "execution_count": null,
   "metadata": {
    "scrolled": false
   },
   "outputs": [],
   "source": [
    "from IPython.display import Image, display \n",
    "for p in short_latency['image_path']:\n",
    "    if type(p) is str:\n",
    "        print type(p)\n",
    "        display(Image(filename=p)) \n"
   ]
  },
  {
   "cell_type": "code",
   "execution_count": null,
   "metadata": {
    "scrolled": false
   },
   "outputs": [],
   "source": [
    "# Lets look for neurons that have been miss any-sign fit.\n",
    "missfit=df[(df.distance<1e10) & (df.boolean_connection==True) & (df.amp>0) & \n",
    "                 (df.syn_excitation=='in')][['uid','pre_cell_id','post_cell_id', 'amp',\n",
    "                                             'image_path', 'latency', 'NRMSE', 'n_sweeps']].sort_values(by='uid')\n",
    "print(missfit[['uid','pre_cell_id', 'post_cell_id', 'latency', 'amp', 'NRMSE', 'n_sweeps']].to_string())\n",
    "\n",
    "from IPython.display import Image, display \n",
    "for p in missfit['image_path']:\n",
    "    if type(p) is str:\n",
    "        print type(p)\n",
    "        display(Image(filename=p)) "
   ]
  },
  {
   "cell_type": "code",
   "execution_count": null,
   "metadata": {
    "scrolled": false
   },
   "outputs": [],
   "source": [
    "#in voltage clamp it looks like the many of the excitatory cells have a zero amp\n",
    "#remember in vclamp inhibitory cells should have a postive sign\n",
    "low_amp=df[(df.distance<1e10) & (df.boolean_connection==True) & (df.amp<1.e-13) & \n",
    "                 (df.syn_excitation=='ex')][['uid','pre_cell_id','post_cell_id', 'amp',\n",
    "                                             'image_path', 'latency', 'NRMSE', 'n_sweeps']].sort_values(by='uid')\n",
    "print(low_amp[['uid','pre_cell_id', 'post_cell_id', 'latency', 'amp', 'NRMSE', 'n_sweeps']].to_string())\n",
    "\n",
    "from IPython.display import Image, display \n",
    "for p in low_amp['image_path']:\n",
    "    if type(p) is str:\n",
    "        print type(p)\n",
    "        display(Image(filename=p)) "
   ]
  },
  {
   "cell_type": "code",
   "execution_count": null,
   "metadata": {
    "scrolled": true
   },
   "outputs": [],
   "source": [
    "plotting_df=df[(df.distance<1e10) & (df.boolean_connection==True)]\n",
    "g=sns.pairplot(plotting_df, \n",
    "             vars=['distance','amp','decay_tau', 'latency', 'rise_time', 'NRMSE'], \n",
    "             hue='acsf')\n",
    "g.fig.suptitle('All connections (any sign fitting)', fontsize=24)\n",
    "g.fig.subplots_adjust(top=.93)"
   ]
  },
  {
   "cell_type": "code",
   "execution_count": null,
   "metadata": {
    "scrolled": false
   },
   "outputs": [],
   "source": [
    "import matplotlib.pyplot as plt\n",
    "plotting_df=df[(df.distance<1e10) & (df.boolean_connection==True) & (df.pre_layer=='5') & (df.post_layer=='5')]\n",
    "pre_cre=['sim1', 'tlx3', 'pvalb', 'sst', 'vip']\n",
    "post_cre=['sim1', 'tlx3', 'pvalb', 'sst', 'vip']\n",
    "for pre_c in pre_cre:\n",
    "    for post_c in post_cre:\n",
    "        plotting_df=df[(df.distance<1e10) & (df.boolean_connection==True) & \n",
    "                   (df.pre_layer=='5') & (df.post_layer=='5') &\n",
    "                   (df.pre_cre==pre_c) & (df.post_cre==post_c)]\n",
    "        if len(plotting_df)>4:\n",
    "            g=sns.pairplot(plotting_df, \n",
    "                 vars=['distance','amp','decay_tau', 'latency', 'rise_time', 'NRMSE'], \n",
    "                 hue='acsf')\n",
    "            g.fig.suptitle('Layer 5 '+pre_c+' to '+post_c+' (any sign fitting)', fontsize=24)\n",
    "            g.fig.subplots_adjust(top=.93)"
   ]
  },
  {
   "cell_type": "code",
   "execution_count": null,
   "metadata": {
    "scrolled": true
   },
   "outputs": [],
   "source": [
    "plotting_df=df[(df.distance<1e10) & (df.boolean_connection==True) & (df.NRMSE<8)]\n",
    "sns.set(style=\"ticks\")\n",
    "sns.pairplot(plotting_df, vars=['distance','amp','decay_tau', 'latency', 'rise_time', 'NRMSE'], hue='syn_excitation')"
   ]
  },
  {
   "cell_type": "code",
   "execution_count": null,
   "metadata": {
    "scrolled": false
   },
   "outputs": [],
   "source": [
    "#make plots seperately\n",
    "\n",
    "low_ca_df=df[(df.distance<1e10) & (df.boolean_connection==True) & (df.acsf=='1.3mM Ca & 1mM Mg')]\n",
    "high_ca_df=df[(df.distance<1e10) & (df.boolean_connection==True) & (df.acsf=='2mM Ca & Mg')]\n",
    "pre_cre=['sim1', 'tlx3', 'pvalb', 'sst', 'vip']\n",
    "post_cre=['sim1', 'tlx3', 'pvalb', 'sst', 'vip']\n",
    "for pre_c in pre_cre:\n",
    "    for post_c in post_cre:\n",
    "        low_ca_df=df[(df.distance<1e10) & (df.boolean_connection==True) & (df.acsf=='1.3mM Ca & 1mM Mg') &\n",
    "                     (df.pre_layer=='5') & (df.post_layer=='5') &\n",
    "                     (df.pre_cre==pre_c) & (df.post_cre==post_c)]\n",
    "        high_ca_df=df[(df.distance<1e10) & (df.boolean_connection==True) & (df.acsf=='2mM Ca & Mg') &\n",
    "                      (df.pre_layer=='5') & (df.post_layer=='5') &\n",
    "                     (df.pre_cre==pre_c) & (df.post_cre==post_c)]\n",
    "        plt.figure()\n",
    "        if len(low_ca_df) > 1:\n",
    "            sns.distplot(low_ca_df['latency'], kde=False)\n",
    "        if len(low_ca_df) >1: \n",
    "            sns.distplot(high_ca_df['latency'], kde=False)\n",
    "        plt.title(pre_c+' to '+post_c)"
   ]
  },
  {
   "cell_type": "code",
   "execution_count": null,
   "metadata": {},
   "outputs": [],
   "source": [
    "layer5_exclusions=[(1533760229.35, 1, 8),\n",
    "(1533760229.35, 2, 3),\n",
    "(1533760229.35, 2, 7),\n",
    "(1533760229.35, 2, 8),\n",
    "(1530911027.48, 5, 8),\n",
    "(1526677592.22, 5, 4), \n",
    "(1524865937.59, 8, 6),\n",
    "(1523470754.85, 4, 7),\n",
    "(1522789170.88, 8, 5),\n",
    "(1517348193.99, 1, 8), \n",
    "(1516233523.01, 6, 7),\n",
    "(1512427735.49, 7, 6),\n",
    "(1510784600.16, 5, 6),\n",
    "(1508882414.56, 1, 7),\n",
    "(1507235159.78, 3, 5), \n",
    "(1506536788.12, 1, 2),\n",
    "(1503438194.62, 5, 4),\n",
    "(1502914763.89, 2, 8),\n",
    "(1503350239.42, 6, 5),\n",
    "(1501697476.75, 3, 2),\n",
    "(1500674097.51, 4, 8),\n",
    "(1500674097.51, 4, 1),\n",
    "(1500668871.65, 1, 4),\n",
    "(1499458608.76, 7, 6), \n",
    "(1499277221.97, 6, 8),\n",
    "(1497468556.18, 8, 6),\n",
    "(1497417667.38, 5, 8),\n",
    "(1497417667.38, 5, 2),\n",
    "(1496435165.25, 1, 2),\n",
    "(1496356414.74, 3, 6),\n",
    "(1496356414.74, 4, 3),\n",
    "(1496204446.61, 6, 3),\n",
    "(1496183885.88, 2, 3),\n",
    "(1495659736.17, 7, 8),\n",
    "(1494630290.65, 5, 4),\n",
    "(1494624188.37, 2, 4),\n",
    "(1494452978.66, 2, 4),\n",
    "(1494452978.66, 4, 3),\n",
    "(1494633087.98, 3, 2),\n",
    "(1493765516.34, 7, 3),\n",
    "(1493411823.75, 5, 8), \n",
    "(1492635468.58, 8, 5),\n",
    "(1492630859.95, 1, 6),\n",
    "(1492460382.78, 6, 2),\n",
    "(1491344474.78, 4, 1),\n",
    "(1490997794.08, 3, 2),\n",
    "(1490997794.08, 6, 7),\n",
    "(1490997794.08, 8, 7),\n",
    "(1487794887.82, 5, 1),\n",
    "(1487978611.61, 2, 1),\n",
    "(1487715029.49, 5, 6),\n",
    "(1487207362.08, 5, 6),\n",
    "(1486511976.48, 7, 2),\n",
    "(1486769398.43, 8, 7),\n",
    "(1486753952.16, 1, 2)]\n",
    "layer5_exclusions=[(str(a[0]), a[1], a[2]) for a in layer5_exclusions]\n",
    "\n",
    "L5_df=df[(df.distance<1e10) & (df.boolean_connection==True) & (df.pre_layer=='5') & (df.post_layer=='5') \n",
    "             & (df.latency > .0002)]\n",
    "L5_df['for_exclusion']=L5_df.apply(lambda row:(row['uid'], row['pre_cell_id'], row['post_cell_id']), axis=1)\n",
    "L5_df=L5_df[~L5_df['for_exclusion'].isin(layer5_exclusions)]"
   ]
  },
  {
   "cell_type": "code",
   "execution_count": null,
   "metadata": {},
   "outputs": [],
   "source": [
    "len(L5_df)"
   ]
  },
  {
   "cell_type": "code",
   "execution_count": null,
   "metadata": {},
   "outputs": [],
   "source": [
    "L5_df['rise time (ms)']=L5_df['rise_time']*1000.\n",
    "L5_df['amp (mV)']=L5_df['amp']*1000.\n",
    "L5_df['latency (ms)']=L5_df['latency']*1000."
   ]
  },
  {
   "cell_type": "code",
   "execution_count": null,
   "metadata": {
    "scrolled": false
   },
   "outputs": [],
   "source": [
    "# layer 5 histograms\n",
    "\n",
    "plot_key=\"latency (ms)\" \n",
    "#plot_key=\"amp (mV)\"\n",
    "#plot_key=\"rise time (ms)\"\n",
    "\n",
    "cres=['sim1', 'tlx3', 'pvalb', 'sst', 'vip']\n",
    "plotting_df=L5_df[(df.distance<1e10) & (L5_df.boolean_connection==True) & \n",
    "                  (L5_df.pre_layer=='5') & (L5_df.post_layer=='5') & \n",
    "               ((L5_df.pre_cre ==cres[0]) |\n",
    "                (L5_df.pre_cre ==cres[1]) |\n",
    "                (L5_df.pre_cre ==cres[2]) |\n",
    "                (L5_df.pre_cre ==cres[3]) |\n",
    "                (L5_df.pre_cre ==cres[4])) &\n",
    "              ((L5_df.post_cre ==cres[0]) |\n",
    "                (L5_df.post_cre ==cres[1]) |\n",
    "                (L5_df.post_cre ==cres[2]) |\n",
    "                (L5_df.post_cre ==cres[3]) |\n",
    "                (L5_df.post_cre ==cres[4]))]\n",
    "\n",
    "sns.set(font_scale=1.5)\n",
    "g = sns.FacetGrid(plotting_df, col='pre_cre', row='post_cre', hue='acsf', \n",
    "                  margin_titles=True, row_order=cres, col_order=cres, sharex=False, sharey=False)\n",
    "#g = (g.map(sns.kdeplot, plot_key, alpha=1).add_legend())\n",
    "g = (g.map(plt.hist, plot_key, alpha=.5).add_legend())\n",
    "g.fig.suptitle('Layer 5', fontsize=24)\n",
    "g.fig.subplots_adjust(top=.93)\n",
    "\n",
    "#put better margin titles that don't use column key as a title\n",
    "[plt.setp(ax.texts, text=\"\") for ax in g.axes.flat] # remove the original texts\n",
    "g.set_titles(row_template = 'post= {row_name}', col_template = 'pre={col_name}')\n",
    "g.axes[0][0].get_xlim()\n",
    "\n",
    "#flatten columns for kstest\n",
    "flattened_cres=[]\n",
    "for post in cres:\n",
    "    for pre in cres:\n",
    "        flattened_cres.append((pre,post))\n",
    "        \n",
    "from scipy import stats    \n",
    "for a, cre_pair in zip(g.axes.flat, flattened_cres):\n",
    "    #need to calculate p here\n",
    "    ca13 = plotting_df[(plotting_df['pre_cre']==cre_pair[0]) & (plotting_df['post_cre']==cre_pair[1]) \n",
    "                       & (plotting_df['acsf']=='1.3mM Ca & 1mM Mg')][plot_key].values\n",
    "    ca20 = plotting_df[(plotting_df['pre_cre']==cre_pair[0]) & (plotting_df['post_cre']==cre_pair[1]) \n",
    "                     & (plotting_df['acsf']=='2mM Ca & Mg')][plot_key].values\n",
    "    if (len(ca13) > 3) and (len(ca20) > 3):\n",
    "        _, p = stats.ks_2samp(ca13, ca20)\n",
    "    else:\n",
    "        p=np.nan\n",
    "    x_annotate = (a.get_xlim()[0]+a.get_xlim()[1])/2\n",
    "    y_annotate = (a.get_ylim()[0]+a.get_ylim()[1])/5*4\n",
    "    print (cre_pair, a.get_xlim(), a.get_ylim())\n",
    "    a.text(x_annotate, y_annotate, 'p=%.3f' %p)\n",
    "\n"
   ]
  },
  {
   "cell_type": "code",
   "execution_count": null,
   "metadata": {},
   "outputs": [],
   "source": [
    "plotting_df[(plotting_df['pre_cre']==cre_pair[0]) & (plotting_df['pre_cre']==cre_pair[1]) \n",
    "                       & (plotting_df['acsf']=='1.3mM Ca & 1mM Mg')]['rise_time'].values"
   ]
  },
  {
   "cell_type": "code",
   "execution_count": null,
   "metadata": {},
   "outputs": [],
   "source": []
  },
  {
   "cell_type": "code",
   "execution_count": null,
   "metadata": {
    "scrolled": false
   },
   "outputs": [],
   "source": [
    "#Look to see if we believe fitting that leads to differences in distributions\n",
    "\n",
    "closer_look=df[(df.distance<1e10) & (df.boolean_connection==True) & (df.pre_layer=='5') & (df.post_layer=='5') \n",
    "               & (df.latency > .0002)]\n",
    " \n",
    "#                 (df.pre_cre =='pvalb') & (df.post_cre =='sst')]\n",
    "print(len(closer_look))\n",
    "\n",
    "from IPython.display import Image, display \n",
    "for p in closer_look['image_path']:\n",
    "    if type(p) is str:\n",
    "        print type(p)\n",
    "        display(Image(filename=p)) "
   ]
  },
  {
   "cell_type": "code",
   "execution_count": null,
   "metadata": {},
   "outputs": [],
   "source": [
    "g= sns.PairGrid(plotting_df,col='pre_cre', row='post_cre', hue='acsf', margin_titles=True, sharex=False, sharey=False)\n",
    "g= (g.map(plt.hist, \"latency\", alpha=.5))\n",
    "\n"
   ]
  },
  {
   "cell_type": "code",
   "execution_count": null,
   "metadata": {
    "scrolled": true
   },
   "outputs": [],
   "source": []
  }
 ],
 "metadata": {
  "kernelspec": {
   "display_name": "Python 2",
   "language": "python",
   "name": "python2"
  },
  "language_info": {
   "codemirror_mode": {
    "name": "ipython",
    "version": 2
   },
   "file_extension": ".py",
   "mimetype": "text/x-python",
   "name": "python",
   "nbconvert_exporter": "python",
   "pygments_lexer": "ipython2",
   "version": "2.7.15"
  }
 },
 "nbformat": 4,
 "nbformat_minor": 2
}
