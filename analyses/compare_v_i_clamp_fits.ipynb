{
 "cells": [
  {
   "cell_type": "markdown",
   "metadata": {},
   "source": [
    "# <center>Prediction of current clamp from voltage clamp parameters <br> in different layers and cre types</center>\n",
    "<center>Corinne Teeter</center>\n",
    "<center>Jan 4, 2019</center>\n",
    "\n",
    "### Objective \n",
    "Determine if parameters (amp, rise_tau, latency, and decay_tau) and fitting error metric (NRMSE) found by fitting current clamp data can be predicted from parameters found by fitting voltage clamp data (using fits to the average first pulse trace).  If so, do these relationships differ between excitation, different cre lines, or layers?\n",
    "### Results\n",
    "1) Decay tau is not well fit and is left out of the analysis as regressions are not found to be statistically significant. <br>\n",
    "\n",
    "2) 'Excellent' versus 'well' fit data: It is not obvious whether including the additional 'well' fit data is benificial i.e. sometimes it detracts from statistical significance and sometime it enhances it. <br>\n",
    "\n",
    "3) Excitatory versus Inhibitory: It is reasonable to assume that there are relationships between all parameters in voltage clamp and current clamp and that they are different (statistically significant) between inhibitory and excitatory neurons.  Rise tau is the most substantially different and noticible by eye. <br>\n",
    "\n",
    "4) Cre-lines: Included catagories are pvalb to pvalb, sim1 to sim1, tlx3 to tlx3, rorb to rorb, and unknown to unknown.  These catagories potentially had a large enough number to have statistically significant results; however, tlx3 to tlx3 and rorb to rorb sill had low n, which could have contributed to a lack of significance.  There are many details in these results.  Different cre line catagories have different levels of significance for different variables.  Using only significant regressions, only intercepts (never slopes) were found to be statistically different in some variables.  Rise tau that was found to be highly significantly different between inhibitory and excitatory cells was not statistically significant here.  However by eye it is quite obvious that the unknown to unknown and the sim1 to sim1 (which were the two catagories that have significant regression lines for rise_tau) are located above the other data which were not individually statistically significant. <br>\n",
    "\n",
    "5) Layers: Included layer catagories are 2 to 2, 2/3 to 2/3, 3 to 3, 4 to 4, 5 to 5, and 6 to 6.  Only the intercept of the rise tau relationship was found to be statistically significant.\n",
    "### Methods\n",
    "a) Fit the average of the first pulse voltage clamp and current clamp data. <br>\n",
    "b) Rate the quality of the fit by eye. <br>\n",
    "c) Remove heteroscedasticity. <br>\n",
    "d) Break into catagories (i.e. inhibitory/excitatory, cre line, layer). <br>\n",
    "&nbsp;&nbsp;&nbsp;&nbsp;&nbsp;&nbsp;&nbsp;&nbsp;&nbsp;&nbsp;&nbsp;&nbsp;test for statistical significance of linear regression. <br>\n",
    "e) Test if statistically significant regressions (slope and intercept) are different between different catagories. <br>  \n",
    "### Subquestions addressed in this analysis\n",
    "What is the best way to get rid of heteroscedasticity? <br>\n",
    "### Caveats\n",
    "a) In many of the fits, it does not look like rise is fit well with one exponential.  This throws off the location of the amplitude. <br>\n",
    "b) Low n in some samples.\n",
    "### Discussion topics\n",
    "Why are NRMSE, amplitude and rise_tau heteroscedastic? <br>\n",
    "What do the different predictive relationships between different catagories mean? <br>\n",
    "What is the interpretation of a statistically significant different slope versus intercept.\n",
    "### Potenial future work\n",
    "Use double exponentials in rise tau (and maybe decay tau) to get better fits. <br>\n",
    "Stats: <br>\n",
    "&nbsp;&nbsp;&nbsp;Test for outliers <br>\n",
    "Make models of voltage/current clamp relationships.\n",
    "\n",
    "\n",
    "# ANALYSIS"
   ]
  },
  {
   "cell_type": "code",
   "execution_count": null,
   "metadata": {
    "scrolled": true
   },
   "outputs": [],
   "source": [
    "# Note that these .csv files loaded here have been processed though \"extract_first_pulse_fit_data_from_DB.py\"\n",
    "# \"and catagorize_goodness_of_fit_by_eye.py\"\n",
    "# A fantastic explanation of how to interpret the output and input of linear regression\n",
    "# of different catagories in statsmodels (or R) is at: \n",
    "# https://www.andrew.cmu.edu/user/achoulde/94842/lectures/lecture10/lecture10-94842.html\n",
    "import pandas as pd\n",
    "import numpy as np\n",
    "import seaborn as sns\n",
    "import matplotlib\n",
    "import matplotlib.pyplot as plt\n",
    "%matplotlib inline\n",
    "font={'size':22}\n",
    "matplotlib.rc('font', **font)\n",
    "import statsmodels\n",
    "import statsmodels.api as sm\n",
    "import statsmodels.formula.api as smf"
   ]
  },
  {
   "cell_type": "code",
   "execution_count": null,
   "metadata": {
    "scrolled": true
   },
   "outputs": [],
   "source": [
    "# load csv files.\n",
    "i_df=pd.read_csv('ML_connected_iclamp_2018_12_18.csv')\n",
    "v_df=pd.read_csv('ML_connected_vclamp_2018_12_12.csv')\n",
    "i_df['uid']=i_df.apply(lambda row: \"%.3f\" % float(row.uid), axis=1)\n",
    "v_df['uid']=v_df.apply(lambda row: \"%.3f\" % float(row.uid), axis=1)"
   ]
  },
  {
   "cell_type": "code",
   "execution_count": null,
   "metadata": {},
   "outputs": [],
   "source": [
    "# get rid of wacky Unnamed columns if they exist\n",
    "v_df=v_df[v_df.columns.drop(list(v_df.filter(regex='Unnamed')))]\n",
    "i_df=i_df[i_df.columns.drop(list(i_df.filter(regex='Unnamed')))]\n",
    "i_df.keys()"
   ]
  },
  {
   "cell_type": "code",
   "execution_count": null,
   "metadata": {
    "scrolled": true
   },
   "outputs": [],
   "source": [
    "#Merge voltage and current clamp data frames\n",
    "merged_df = pd.merge(i_df, v_df, on=['uid', 'pre_cell_id', 'post_cell_id', \n",
    "                                     'distance', 'acsf','post_cre', 'pre_cre',\n",
    "                                    'boolean_connection', 'pre_layer', \n",
    "                                     'post_layer'], how='inner', suffixes={'_i', '_v'})\n",
    "merged_df['uid']=merged_df['uid'].astype(str)\n",
    "\n",
    "print(len(i_df))\n",
    "print(len(v_df))\n",
    "print(len(merged_df))"
   ]
  },
  {
   "cell_type": "markdown",
   "metadata": {},
   "source": [
    "# Data Sets: excellent versus well fit data\n",
    "The quality of the fit was assessed by eye. See images at the end of the document for examples.  More data will be included in this analysis if the 'well fit' data are used in addition to the 'excellent fit' data.  However, it is unclear if including well fit data will benifit the analysis as it may add  noise.  Throughout, results on the 'excellent' versus 'well' fit data will be shown.  The decay tau values are not yet well fit and many are hitting the boundries.  Here, the values hitting the boundry in vclamp are removed, however, this does not resolve the issue, as in general, decay tau is not well fit. "
   ]
  },
  {
   "cell_type": "code",
   "execution_count": null,
   "metadata": {
    "scrolled": true
   },
   "outputs": [],
   "source": [
    "# merge the data that is 'excellent'\n",
    "excellent_df=merged_df[(merged_df['good_fit_i']=='excellent') & (merged_df['good_fit_v']=='excellent') & \n",
    "                      (merged_df['data_clarity_v']=='well') & (merged_df['data_clarity_i']=='well')]\n",
    "# merge the data that is pretty good\n",
    "good_df=merged_df[((merged_df['good_fit_i']=='excellent') | (merged_df['good_fit_i']=='good')) & \n",
    "                       ((merged_df['good_fit_v']=='excellent') | (merged_df['good_fit_v']=='good')) & \n",
    "                       ((merged_df['data_clarity_v']=='well') | (merged_df['data_clarity_v']=='ok')) & \n",
    "                       ((merged_df['data_clarity_i']=='well') | (merged_df['data_clarity_i']=='ok'))]\n",
    "print(len(excellent_df))"
   ]
  },
  {
   "cell_type": "markdown",
   "metadata": {},
   "source": [
    "# Heteroscedasticity\n",
    "Heteroscedasticity is when the variability of a variable is unequal across the range of values (often it systematically increases or decreases).  It can be seen by eye in this data.  Here, I explore if two data transforms will abolish heteroscedasticity.  The White’s Lagrange Multiplier test and Breusch–Pagan test for Heteroscedasticity provide two measures with p-values to assess whether the heteroscedasticity is statistically significant.  The  Breusch–Pagan test only tests for linear forms of heteroscedasticity.  The White test idendifies non-linear forms of heteroscedasticity.  Note that in transforms of the amplitude data, negative numbers are converted to positive numbers.  Green plots denote when both statistical tests show no significant heteroscedasticity,  yellow plots denote when one tests yields statistical significance for heteroscedasticity, and red is when both tests claim heteroscedasticity.  \n",
    "### Code"
   ]
  },
  {
   "cell_type": "code",
   "execution_count": null,
   "metadata": {},
   "outputs": [],
   "source": [
    "def pos_sqrt(n):\n",
    "    \"\"\"Take square root of the absolute value of a number.  If the input is zero, return a np.nan.\n",
    "    \n",
    "    Input\n",
    "    -----\n",
    "    n: float\n",
    "    \n",
    "    Returns\n",
    "    -------\n",
    "    out: float\"\"\"\n",
    "    \n",
    "    if n<0:\n",
    "        out = np.sqrt(np.abs(n))\n",
    "    if n>=0:\n",
    "        out = np.sqrt(n)\n",
    "    if np.isnan(n):\n",
    "        return np.nan\n",
    "    return out\n",
    "\n",
    "def pos_log(n):\n",
    "    \"\"\"Take log of the absolute value of a number.  If the input is zero, return a np.nan.\n",
    "    \n",
    "    Input\n",
    "    -----\n",
    "    n: float\n",
    "    \n",
    "    Returns\n",
    "    -------\n",
    "    out: float\"\"\"\n",
    "    if n<0:\n",
    "        out = np.log(np.abs(n))\n",
    "    if n>=0:\n",
    "        out = np.log(n)\n",
    "    if np.isnan(n):\n",
    "        return np.nan\n",
    "    return out\n",
    "\n",
    "def plot_hetero(df):\n",
    "    \"\"\"Plot the original data with two data transforms (sqrt and log) and perform tests \n",
    "    for heterscedasticity.\n",
    "    \n",
    "    Input\n",
    "    -----\n",
    "    df: DataFrame\n",
    "    \n",
    "    Output\n",
    "    ------\n",
    "    df: DataFrame\n",
    "        contains additional columns with the values for the transforms\n",
    "    \"\"\"\n",
    "    variables=(('NRMSE_v', 'NRMSE_i'),\n",
    "               ('amp_v', 'amp_i'),\n",
    "               ('rise_time_v', 'rise_time_i'),\n",
    "               ('latency_v', 'latency_i'),\n",
    "               ('decay_tau_v', 'decay_tau_i'))\n",
    "\n",
    "    def set_plot_color(gca, p1, p2, sig_v=.05):\n",
    "        if p1<sig_v and p2<sig_v:\n",
    "            gca.set_facecolor('xkcd:red') #significant p-value for heteroscedasticity\n",
    "        elif p1<sig_v or p2<sig_v:\n",
    "            gca.set_facecolor('xkcd:yellow') #one p-value significant for heteroscedasticity\n",
    "        elif p1>sig_v and p2>sig_v:\n",
    "            gca.set_facecolor('xkcd:green') #neither p-values suggest heteroscedasticity\n",
    "            \n",
    "\n",
    "    def plotting(var, df): \n",
    "        # plot data on left\n",
    "        f.add_subplot(131)\n",
    "        regression=smf.ols(formula='%s ~ %s' %(var[1], var[0]), data=df).fit() \n",
    "        _,_,_,p_unchange_white=statsmodels.stats.diagnostic.het_white(regression.resid, regression.model.exog)\n",
    "        _,_,_,p_unchange_breuschpagan=statsmodels.stats.diagnostic.het_breuschpagan(regression.resid, regression.model.exog)\n",
    "        sns.regplot(var[0], var[1], data=df, color ='k', label='p_white=%f, p_breuschpagan=%f' % (p_unchange_white, p_unchange_breuschpagan))\n",
    "        set_plot_color(plt.gca(), p_unchange_white, p_unchange_breuschpagan)\n",
    "        plt.xlim([np.min(df[var[0]]), np.max(df[var[0]])])\n",
    "        plt.ylim([np.min(df[var[1]]), np.max(df[var[1]])])\n",
    "        plt.legend()\n",
    "\n",
    "        # plot square root transformed data on right\n",
    "        f.add_subplot(132)\n",
    "        df['sqrt_'+var[0]]=df[var[0]].apply(lambda x: pos_sqrt(x))\n",
    "        df['sqrt_'+var[1]]=df[var[1]].apply(lambda x: pos_sqrt(x))\n",
    "        regression=smf.ols(formula='%s ~ %s' %('sqrt_'+var[1], 'sqrt_'+var[0]), data=df).fit() \n",
    "        _,_,_,p_sqrt_white=statsmodels.stats.diagnostic.het_white(regression.resid, regression.model.exog)\n",
    "        _,_,_,p_sqrt_breuschpagan=statsmodels.stats.diagnostic.het_breuschpagan(regression.resid, regression.model.exog)\n",
    "        sns.regplot('sqrt_'+var[0], 'sqrt_'+var[1], data=df, color ='k', label='p_white=%f, p_breuschpagan=%f' % (p_sqrt_white, p_sqrt_breuschpagan))\n",
    "        set_plot_color(plt.gca(), p_sqrt_white, p_sqrt_breuschpagan)\n",
    "        plt.xlim([np.min(df['sqrt_'+var[0]]), np.max(df['sqrt_'+var[0]])])\n",
    "        plt.ylim([np.min(df['sqrt_'+var[1]]), np.max(df['sqrt_'+var[1]])])\n",
    "        plt.legend()\n",
    "\n",
    "        # plot log transformed data on the far right\n",
    "        f.add_subplot(133)\n",
    "        df['log_'+var[0]]=df[var[0]].apply(lambda x: pos_log(x))\n",
    "        df['log_'+var[1]]=df[var[1]].apply(lambda x: pos_log(x))\n",
    "        regression=smf.ols(formula='%s ~ %s' %('log_'+var[1], 'log_'+var[0]), data=df).fit() \n",
    "        _,_,_,p_log_white=statsmodels.stats.diagnostic.het_white(regression.resid, regression.model.exog)\n",
    "        _,_,_,p_log_breuschpagan=statsmodels.stats.diagnostic.het_breuschpagan(regression.resid, regression.model.exog)\n",
    "        sns.regplot('log_'+var[0], 'log_'+var[1], data=df, color ='k', label='p_white=%f, p_breuschpagan=%f' % (p_log_white, p_log_breuschpagan))\n",
    "        set_plot_color(plt.gca(), p_log_white, p_log_breuschpagan)\n",
    "        plt.xlim([np.min(df['log_'+var[0]]), np.max(df['log_'+var[0]])])\n",
    "        plt.ylim([np.min(df['log_'+var[1]]), np.max(df['log_'+var[1]])])\n",
    "        plt.legend()\n",
    "\n",
    "    for var in variables:\n",
    "        font={'size':22}\n",
    "        matplotlib.rc('font', **font)\n",
    "        f=plt.figure(figsize=(40,10))\n",
    "        if var==('decay_tau_v', 'decay_tau_i'):\n",
    "            plotting(var,df[df['decay_tau_v']<.49])\n",
    "        else:\n",
    "            plotting(var, df)\n",
    "\n",
    "        plt.show()\n",
    "        \n",
    "    return df"
   ]
  },
  {
   "cell_type": "markdown",
   "metadata": {},
   "source": [
    "## Heteroscedasticity in 'excellent fit' data set\n",
    "### Results\n",
    "Amplitude, rise tau, and NMRSE require log transform to remove heteroscedasticity (p-value is less significant).  Interestingly the linear heteroscedasticity test (Breusch–Pagan) claims heteroscedasticity is present by the non-linear test does not.  I will go ahead and use the log transform when performing statistical tests later in this document. Latency and decay tau do not require a transform.  The following analysis testing catagorical regression significance and differences will incorporate the necessary transforms."
   ]
  },
  {
   "cell_type": "code",
   "execution_count": null,
   "metadata": {
    "scrolled": false
   },
   "outputs": [],
   "source": [
    "excellent_df=plot_hetero(excellent_df)"
   ]
  },
  {
   "cell_type": "markdown",
   "metadata": {},
   "source": [
    "## Plot the 'well fit' (larger) data set\n",
    "### Results\n",
    "Similar to 'excellent fit' data set, NRMSE, rise_time, and amplitude require log transforms to remove heteroscedasticity and decay tau does not require a transform.  The one difference here, is that the latency value shows a statistically significant p-value for heteroscedasticity when there is no transform, non significant with a sqrt transform and sigfificant again with a log transform.  I am going to ignore this deviation from the 'excellent fit' data since the data does not look blatently heteroscedastic, the p-value is only passes 95% significance, and it may be the case that one value has triggered the significant p-value here (although it is really unclear which data point that would have been as it is not obvious by eye). "
   ]
  },
  {
   "cell_type": "code",
   "execution_count": null,
   "metadata": {
    "scrolled": false
   },
   "outputs": [],
   "source": [
    "good_df=plot_hetero(good_df)"
   ]
  },
  {
   "cell_type": "markdown",
   "metadata": {},
   "source": [
    "# Functions for regression significance and catagorical differences used in analysis below\n",
    "### Code to test if the data can be fit via a regression"
   ]
  },
  {
   "cell_type": "code",
   "execution_count": null,
   "metadata": {
    "scrolled": true
   },
   "outputs": [],
   "source": [
    "def regression_significance(df_list, catagory_type, data_type='', \n",
    "                            variables=(('NRMSE_v', 'NRMSE_i'),\n",
    "                                       ('amp_v', 'amp_i'),\n",
    "                                       ('rise_time_v', 'rise_time_i'),\n",
    "                                       ('latency_v', 'latency_i'),\n",
    "                                       ('decay_tau_v', 'decay_tau_i'))):\n",
    "    \"\"\"Creates plots that show whether variables can be fit with linear regression lines for\n",
    "    different catagories. \n",
    "    \n",
    "    Input\n",
    "    -----\n",
    "    df_list: list of DataFrames\n",
    "        results from each DataFrame will be plotted side by side\n",
    "    catagory_type: string\n",
    "        options: excitation, cre, layer\n",
    "    data_type: string\n",
    "    data_type: string\n",
    "        specifies which data transform you are using.\n",
    "        options: ''       non transformed data\n",
    "                 'log_'   sqrt of data (negative values made positive before transform)\n",
    "                 'sqrt_'  log of data (negative values made positive before transform)\n",
    "    variables: tuple of tuples containing string pairs\n",
    "        string pairs are column titles to be plotted against one another.  \n",
    "    \"\"\"\n",
    "    df_num=len(df_list)\n",
    "    font={'size':22/df_num}\n",
    "    matplotlib.rc('font', **font)\n",
    "\n",
    "    \n",
    "    if catagory_type=='excitation':\n",
    "        col_name=('syn_excitation_v', 'syn_excitation_v')\n",
    "        values=(('ex', 'ex', 'b'),\n",
    "                ('in', 'in', 'r'))\n",
    "        \n",
    "    elif catagory_type=='cre':\n",
    "        col_name=('pre_cre', 'post_cre')\n",
    "        values=(('pvalb', 'pvalb', 'b'),\n",
    "                ('rorb', 'rorb', 'r'),\n",
    "                ('sim1', 'sim1', 'g'),\n",
    "                ('tlx3','tlx3', 'm'),\n",
    "                ('unknown', 'unknown', 'c'))\n",
    "    elif catagory_type=='layer':\n",
    "        col_name=('pre_layer', 'post_layer')\n",
    "        values=(('2', '2','b'),\n",
    "               ('2/3', '2/3', 'r'),\n",
    "               ('3', '3', 'g'),\n",
    "               ('4', '4', 'm'),\n",
    "               ('5', '5', 'c'),\n",
    "               ('6', '6', 'y'))\n",
    "    else:\n",
    "        raise Exception()\n",
    "    \n",
    "#     variables=(('NRMSE_v', 'NRMSE_i'),\n",
    "#                ('amp_v', 'amp_i'),\n",
    "#                ('rise_time_v', 'rise_time_i'),\n",
    "#                ('latency_v', 'latency_i'),\n",
    "#                ('decay_tau_v', 'decay_tau_i'))\n",
    "\n",
    "    fs=20.                  \n",
    "    def plotting(var, df_list):\n",
    "        for ii,df in enumerate(df_list):\n",
    "            plt.subplot(1,df_num, ii+1)\n",
    "            mod = smf.ols(formula='%s ~ %s' % (data_type+var[1], data_type+var[0]), data=df)\n",
    "            res=mod.fit()\n",
    "            if res.pvalues[1]< .05:\n",
    "                slope_star='*'\n",
    "            else:\n",
    "                slope_star=''\n",
    "            sns.regplot(data_type+var[0], data_type+var[1], data=df, fit_reg=True, color ='k', \n",
    "                            label='all, n=%i, p_slope=%f%s' % \n",
    "                            (len(df), res.pvalues[1], slope_star))\n",
    "            for value in values: \n",
    "                plot_df=df[(df[col_name[0]]==value[0]) & (df[col_name[1]]==value[1])]\n",
    "                mod = smf.ols(formula='%s ~ %s' % (data_type+var[1], data_type+var[0]), data=plot_df)\n",
    "                res=mod.fit()\n",
    "                if res.pvalues[1]< .05:\n",
    "                    slope_star='*'\n",
    "                else:\n",
    "                    slope_star=''\n",
    "                sns.regplot(data_type+var[0], data_type+var[1], data=plot_df, fit_reg=True, color=value[2], \n",
    "                            label='%s to %s, n=%i, slope=%f, p_slope=%f%s' % \n",
    "                            (value[0], value[1], len(plot_df),res.params[1], res.pvalues[1], slope_star))\n",
    "    #             sns.regplot(var[0], var[1], data=plot_df, fit_reg=True, color=value[2], \n",
    "    #                         label='%s to %s, n=%i, slope=%.2E, int=%.2E' % \n",
    "    #                         (value[0], value[1], len(plot_df), res.params[var[0]], res.params.Intercept))\n",
    "            plt.xlim([np.min(df[data_type+var[0]]), np.max(df[data_type+var[0]])])\n",
    "            plt.ylim([np.min(df[data_type+var[1]]), np.max(df[data_type+var[1]])])\n",
    "            plt.legend()\n",
    "    \n",
    "    for var in variables:\n",
    "        plt.figure(figsize=(fs,fs/df_num))\n",
    "        if var==('decay_tau_v', 'decay_tau_i'):\n",
    "            sub_df_list=[]\n",
    "            for df in df_list:\n",
    "                new=df[df['decay_tau_v']<.49]\n",
    "                sub_df_list.append(new)\n",
    "            plotting(var,sub_df_list)\n",
    "        else:\n",
    "            plotting(var, df_list)        \n",
    "        plt.show()\n",
    "        \n",
    "# regression_significance([excellent_df, good_df], 'excitation', data_type='log_', variables=(('NRMSE_v', 'NRMSE_i'),\n",
    "#                ('amp_v', 'amp_i'),\n",
    "#                ('rise_time_v', 'rise_time_i')))\n",
    "# regression_significance([excellent_df, good_df], 'excitation', data_type='', variables=(\n",
    "#                ('latency_v', 'latency_i'),\n",
    "#                ('decay_tau_v', 'decay_tau_i')))    "
   ]
  },
  {
   "cell_type": "markdown",
   "metadata": {},
   "source": [
    "### Code to test if linear regressions of different catagories are statistically different "
   ]
  },
  {
   "cell_type": "code",
   "execution_count": null,
   "metadata": {},
   "outputs": [],
   "source": [
    "def cat_sig_diff(df_list, catagory_type, data_type='', variables=(('NRMSE_v', 'NRMSE_i'),\n",
    "                                       ('amp_v', 'amp_i'),\n",
    "                                       ('rise_time_v', 'rise_time_i'),\n",
    "                                       ('latency_v', 'latency_i'),\n",
    "                                       ('decay_tau_v', 'decay_tau_i'))):\n",
    "    \"\"\"\n",
    "    Create plots showing whether catagories have statistically different linear regressions\n",
    "    Inputs\n",
    "    ------\n",
    "    df: pandas DataFrame\n",
    "        should be proccessed from catagory_df\n",
    "    catagory_type: string\n",
    "        specifies which catagory to apply. Options are 'cre','layer', 'excitation'.\n",
    "    data_type: string\n",
    "        specifies which data transform you are using.\n",
    "        options: ''       non transformed data\n",
    "                 'log_'   sqrt of data (negative values made positive before transform)\n",
    "                 'sqrt_'  log of data (negative values made positive before transform)\n",
    "    variables: tuple of tuples containing string pairs\n",
    "        string pairs are column titles to be plotted against one another.      \n",
    "    \"\"\"\n",
    "\n",
    "    df_num=len(df_list)\n",
    "    font={'size':22/df_num}\n",
    "    matplotlib.rc('font', **font)\n",
    "    if catagory_type=='excitation':\n",
    "        col_name='syn_excitation_v'\n",
    "    elif catagory_type=='cre':\n",
    "        col_name='cre_catagory'\n",
    "    elif catagory_type=='layer':\n",
    "        col_name='layer_catagory'\n",
    "    else:\n",
    "        raise Exception('catagory doesnt exist')\n",
    "    \n",
    "    fs=20.\n",
    "    def plotting(var, df_list):\n",
    "        for ii,df in enumerate(df_list):\n",
    "            plt.subplot(1,df_num, ii+1)\n",
    "            # each catagory is allowed independent intercepts and slopes\n",
    "            model=smf.ols(formula='%s ~ %s * %s' %(data_type+var[1], col_name, data_type+var[0]), data=df).fit()\n",
    "            # all data lumped together\n",
    "            int_same_model=smf.ols(formula='%s ~ %s' %(data_type+var[1], data_type+var[0]), data=df).fit() \n",
    "            # each catagory is allowed independent intercepts\n",
    "            int_diff_model=smf.ols(formula='%s ~ %s + %s' %(data_type+var[1],col_name, data_type+var[0]), data=df).fit()\n",
    "\n",
    "            # Note that simplier model must go first in the sm.satats.anova_lm!!!!\n",
    "            # check to see if the intercepts are significantly different\n",
    "            p_int=sm.stats.anova_lm(int_same_model, int_diff_model).values[-1][-1]\n",
    "            # check to see if slopes are significantly different\n",
    "            p_slope=sm.stats.anova_lm(int_diff_model, model).values[-1][-1]\n",
    "\n",
    "            # plot catagories for visual even though individual statistics aren't needed for global stats\n",
    "            for value in df[col_name].unique(): \n",
    "                plot_df=df[df[col_name]==value]\n",
    "    #             mod = smf.ols(formula='%s ~ %s' % (data_type+var[1], data_type+var[0]), data=plot_df)\n",
    "    #             res=mod.fit()\n",
    "                sns.regplot(data_type+var[0], data_type+var[1], data=plot_df, fit_reg=True, \n",
    "                            label='%s, n=%i' % (value, len(plot_df)))\n",
    "            plt.xlim([np.min(df[data_type+var[0]]), np.max(df[data_type+var[0]])])\n",
    "            plt.ylim([np.min(df[data_type+var[1]]), np.max(df[data_type+var[1]])])\n",
    "            if p_int<.05:\n",
    "                int_star='*'\n",
    "            else:\n",
    "                int_star=''\n",
    "            if p_slope<.05:\n",
    "                slope_star='*'\n",
    "            else:\n",
    "                slope_star=''\n",
    "                    \n",
    "            plt.title(\"Stat diff: intercept p=%f%s, slope p=%f%s\" % (p_int,int_star, p_slope, slope_star))\n",
    "            plt.legend()\n",
    "    \n",
    "    for var in variables:\n",
    "        plt.figure(figsize=(fs,fs/df_num))\n",
    "        if var==('decay_tau_v', 'decay_tau_i'):\n",
    "            sub_df_list=[]\n",
    "            for df in df_list:\n",
    "                new=df[df['decay_tau_v']<.49]\n",
    "                sub_df_list.append(new)\n",
    "            plotting(var,sub_df_list)\n",
    "        else:\n",
    "            plotting(var, df_list)        \n",
    "        plt.show()\n",
    "    \n",
    "# cat_sig_diff([excellent_df, good_df], 'excitation', data_type='log_', variables=(('NRMSE_v', 'NRMSE_i'),\n",
    "#                ('amp_v', 'amp_i'),\n",
    "#                ('rise_time_v', 'rise_time_i')))      \n",
    "# cat_sig_diff([cre_cat_excellent_df, cre_cat_good_df],'excitation', data_type='', variables=(\n",
    "#                ('latency_v', 'latency_i'),))\n"
   ]
  },
  {
   "cell_type": "markdown",
   "metadata": {},
   "source": [
    "### Code to reduce DataFrames to catagories to be tested"
   ]
  },
  {
   "cell_type": "code",
   "execution_count": null,
   "metadata": {},
   "outputs": [],
   "source": [
    "def create_catagory_df(df, catagory_type, variable, fit_type):\n",
    "    ''' To test if the different catagories are significantly different catagorical variables \n",
    "    that are non significant which should not be removed from the DataFrame.\n",
    "    \n",
    "    Input\n",
    "    -----\n",
    "    df: Pandas DataFrame\n",
    "    catagory_type: string\n",
    "        specifies which catagory to apply. Options are 'cre','layer', 'excitation'.\n",
    "    variable: string\n",
    "        options: NRMSE\n",
    "    fit_type: string\n",
    "        options: \n",
    "            'excellent': excellent fit data set\n",
    "            'good': well fit data set which also includes excellent data\n",
    "            \n",
    "    Returns\n",
    "    -------\n",
    "    new_df: Pandas DataFrame\n",
    "        Includes only a subset of the data to be used by cat_sig_diff\n",
    "    '''\n",
    "    if (fit_type != 'excellent') and (fit_type!='good'):\n",
    "        raise Exception('fit_type not defined')\n",
    "    \n",
    "    if catagory_type=='cre':\n",
    "        col_name=('pre_cre', 'post_cre')\n",
    "        if variable=='NRMSE':\n",
    "            if fit_type=='excellent':\n",
    "                values=(('pvalb', 'pvalb'),\n",
    "                        ('sim1', 'sim1'),\n",
    "                        ('tlx3','tlx3'),\n",
    "                        ('unknown', 'unknown'))\n",
    "            elif fit_type=='good':\n",
    "                values=(('pvalb', 'pvalb'),\n",
    "                        ('sim1', 'sim1'),\n",
    "                        ('unknown', 'unknown'))        \n",
    "        elif variable=='amp':\n",
    "            if fit_type=='excellent':\n",
    "                values=(('pvalb', 'pvalb'),\n",
    "                        ('sim1', 'sim1'),\n",
    "                        ('unknown', 'unknown'))\n",
    "            elif fit_type=='good':\n",
    "                values=(('pvalb', 'pvalb'),\n",
    "                        ('rorb', 'rorb'),\n",
    "                        ('sim1', 'sim1'),\n",
    "                        ('tlx3','tlx3'),\n",
    "                        ('unknown', 'unknown'))\n",
    "        elif variable=='rise_time':\n",
    "            if fit_type=='excellent':\n",
    "                values=(('sim1', 'sim1'),\n",
    "                        ('unknown', 'unknown'))\n",
    "            elif fit_type=='good':\n",
    "                values=(('sim1', 'sim1'),\n",
    "                        ('unknown', 'unknown'))\n",
    "        elif variable=='latency':\n",
    "            if fit_type=='excellent':\n",
    "                values=(('pvalb', 'pvalb'),\n",
    "                        ('rorb', 'rorb'),\n",
    "                        ('sim1', 'sim1'),\n",
    "                        ('tlx3','tlx3'),\n",
    "                        ('unknown', 'unknown'))\n",
    "            elif fit_type=='good':\n",
    "                values=(('pvalb', 'pvalb'),\n",
    "                        ('rorb', 'rorb'),\n",
    "                        ('sim1', 'sim1'),\n",
    "                        ('tlx3','tlx3'),\n",
    "                        ('unknown', 'unknown'))\n",
    "        else:\n",
    "            raise Exception('variable not defined')\n",
    "\n",
    "    elif catagory_type=='layer':\n",
    "        col_name=('pre_layer', 'post_layer')\n",
    "        if variable=='NRMSE':\n",
    "            if fit_type=='excellent':\n",
    "                values=(('2', '2'),\n",
    "                       ('2/3', '2/3'),\n",
    "                       ('3', '3'),\n",
    "                       ('4', '4'),\n",
    "                       ('5', '5'))\n",
    "            elif fit_type=='good':\n",
    "                values=(('2', '2'),\n",
    "                       ('2/3', '2/3'),\n",
    "                       ('3', '3'),\n",
    "                       ('4', '4'),\n",
    "                       ('5', '5'))\n",
    "        elif variable=='amp':\n",
    "            if fit_type=='excellent':\n",
    "                values=(('2', '2'),\n",
    "                       ('2/3', '2/3'),\n",
    "                       ('3', '3'),\n",
    "                       ('4', '4'),\n",
    "                       ('5', '5'),\n",
    "                       ('6', '6'))\n",
    "            elif fit_type=='good':\n",
    "                values=(('2', '2'),\n",
    "                       ('2/3', '2/3'),\n",
    "                       ('3', '3'),\n",
    "                       ('4', '4'),\n",
    "                       ('5', '5'),\n",
    "                       ('6', '6'))\n",
    "        elif variable=='rise_time':\n",
    "            if fit_type=='excellent':\n",
    "                values=(('2', '2'),\n",
    "                       ('2/3', '2/3'),\n",
    "                       ('5', '5'))\n",
    "            elif fit_type=='good':\n",
    "                values=(('2', '2'),\n",
    "                       ('2/3', '2/3'),\n",
    "                       ('4', '4'),\n",
    "                       ('5', '5'),\n",
    "                       ('6', '6'))\n",
    "        elif variable=='latency':\n",
    "            if fit_type=='excellent':\n",
    "                values=(('2', '2'),\n",
    "                       ('2/3', '2/3'),\n",
    "                       ('3', '3'),\n",
    "                       ('4', '4'),\n",
    "                       ('5', '5'),\n",
    "                       ('6', '6'))\n",
    "            elif fit_type=='good':\n",
    "                values=(('2', '2'),\n",
    "                       ('2/3', '2/3'),\n",
    "                       ('3', '3'),\n",
    "                       ('4', '4'),\n",
    "                       ('5', '5'),\n",
    "                       ('6', '6'))\n",
    "        else:\n",
    "            raise Exception('variable not defined')\n",
    "        \n",
    "    else:\n",
    "        raise Exception('catagory doesnt exist')\n",
    "        \n",
    "    #for each cre catagory get a subset make a new column for catagory\n",
    "    new_df=pd.DataFrame()\n",
    "    for value in values: \n",
    "        cat_df=df[(df[col_name[0]]==value[0]) & (df[col_name[1]]==value[1])]\n",
    "        key=catagory_type+'_catagory'\n",
    "        v=value[0]+'_to_'+value[1]\n",
    "        cat_df[key]=v\n",
    "        # concatenate to whole dataFrame\n",
    "#         print(new_df)\n",
    "#         print(cat_df)\n",
    "        new_df=pd.concat([new_df, cat_df], axis=0, join='outer', join_axes=None, ignore_index=True,\n",
    "          keys=None, levels=None, names=None, verify_integrity=False,\n",
    "          copy=False)\n",
    "    return new_df"
   ]
  },
  {
   "cell_type": "markdown",
   "metadata": {},
   "source": [
    "# EXCITATION"
   ]
  },
  {
   "cell_type": "markdown",
   "metadata": {},
   "source": [
    "## Significance of regression for excitation catagories\n",
    "#### Results\n",
    "All parameters except decay tau have statistically significant regression lines for inhibitory and excitatory catagories for both 'excellent fit' data (shown on left) and 'well fit' data (shown on right)"
   ]
  },
  {
   "cell_type": "code",
   "execution_count": null,
   "metadata": {
    "scrolled": false
   },
   "outputs": [],
   "source": [
    "regression_significance([excellent_df, good_df], 'excitation', data_type='log_', variables=(('NRMSE_v', 'NRMSE_i'),\n",
    "               ('amp_v', 'amp_i'),\n",
    "               ('rise_time_v', 'rise_time_i')))\n",
    "regression_significance([excellent_df, good_df], 'excitation', data_type='', variables=(\n",
    "               ('latency_v', 'latency_i'),\n",
    "               ('decay_tau_v', 'decay_tau_i')))  "
   ]
  },
  {
   "cell_type": "markdown",
   "metadata": {},
   "source": [
    "## Are excitatory and inhibitory linear regressions significantly different?\n",
    "\n",
    "### Results \n",
    "NRMSE is not significantly different in 'excellent fit' data but intercept is in 'well fit' data. <br>\n",
    "AMPLITUDE slope is significantly different in both 'excellent fit' and 'well fit' data. <br>\n",
    "RISE_TAU is significantly different and noticibly different by eye in both 'excellent fit' and 'well fit' data. <br>\n",
    "LATENCY intercept is significantly difference but not the slope in both 'excellent fit' and 'well fit' data.\n",
    "\n",
    "'Excellent fit' data shown on the left and 'well fit' data on the right. <br>  "
   ]
  },
  {
   "cell_type": "code",
   "execution_count": null,
   "metadata": {
    "scrolled": false
   },
   "outputs": [],
   "source": [
    "cat_sig_diff([excellent_df, good_df], 'excitation', data_type='log_', variables=(('NRMSE_v', 'NRMSE_i'),\n",
    "               ('amp_v', 'amp_i'),\n",
    "               ('rise_time_v', 'rise_time_i')))\n",
    "cat_sig_diff([excellent_df, good_df], 'excitation', data_type='', variables=(\n",
    "               ('latency_v', 'latency_i'),))\n",
    "# not doing decay tau as it doesnt is not related\n",
    "#               ('decay_tau_v', 'decay_tau_i')))\n"
   ]
  },
  {
   "cell_type": "markdown",
   "metadata": {},
   "source": [
    "# CRE LINES"
   ]
  },
  {
   "cell_type": "markdown",
   "metadata": {},
   "source": [
    "## Cre line groups available in the data\n",
    "### Results\n",
    "pv to pv, sim1 to sim1, and unknown to unknown have enough points in both excellent and good fits.\n",
    "\n",
    "rorb to rorb and tlx3 to tlx3 are on the cusp with 6 data points each in the excellent data set and only a couple are added with the good data set. "
   ]
  },
  {
   "cell_type": "code",
   "execution_count": null,
   "metadata": {},
   "outputs": [],
   "source": [
    "# look at what is in data sets\n",
    "print('excellent fits')\n",
    "print(excellent_df.groupby(['pre_cre', 'post_cre']).size())\n",
    "\n",
    "print('\\ngood fits')\n",
    "print(good_df.groupby(['pre_cre', 'post_cre']).size())"
   ]
  },
  {
   "cell_type": "markdown",
   "metadata": {},
   "source": [
    "## Significance of regression for cre-line catagories\n",
    "#### Results\n",
    "NRMSE: pvalb, sim1, and unknown have a statistically significant slope in both 'excellent' and 'well' fit data.  Rorb is not statistically significant in either case and tlx3 to tlx3 is significant in 'excellent' and not in 'well'.<br>\n",
    "AMPLITUDE: All catagories are statistically significant in 'well fit' data but Rorb and tlx3 are not significant in the 'excellent' fit data probably due to number of data points. <br>\n",
    "RISE_TAU: Surprisingly only sim1 and unknown are statistically significant in both 'excellent' and 'well' fit data. <br>\n",
    "LATENCY: All catagories are significant in both 'excellent' and 'well' fit data.\n",
    "\n",
    "'Excellent fit' data shown on the left and 'well fit' data on the right. <br>  "
   ]
  },
  {
   "cell_type": "code",
   "execution_count": null,
   "metadata": {
    "scrolled": false
   },
   "outputs": [],
   "source": [
    "#plot all the data\n",
    "regression_significance([excellent_df, good_df], 'cre', data_type='log_', variables=(\n",
    "               ('NRMSE_v', 'NRMSE_i'),\n",
    "               ('amp_v', 'amp_i'),\n",
    "               ('rise_time_v', 'rise_time_i')))\n",
    "regression_significance([excellent_df, good_df], 'cre', data_type='', variables=(\n",
    "               ('latency_v', 'latency_i'),\n",
    "               ('decay_tau_v', 'decay_tau_i'))) "
   ]
  },
  {
   "cell_type": "markdown",
   "metadata": {},
   "source": [
    "## Are cre-lines with statistically significant regression lines significantly different from one another?"
   ]
  },
  {
   "cell_type": "markdown",
   "metadata": {},
   "source": [
    "### Results\n",
    "Inconsistent results between 'excellent' and 'well' fit data. Sometimes intercepts were found to be statistically significant but never slopes.\n",
    "\n",
    "'Excellent fit' data shown on the left and 'well fit' data on the right. "
   ]
  },
  {
   "cell_type": "code",
   "execution_count": null,
   "metadata": {},
   "outputs": [],
   "source": [
    "#Merging catagory and stat sig from above\n",
    "excellent=create_catagory_df(excellent_df, 'cre', 'NRMSE', 'excellent')\n",
    "good=create_catagory_df(good_df, 'cre', 'NRMSE', 'good')\n",
    "cat_sig_diff([excellent, good], 'cre', data_type='log_', variables=(('NRMSE_v', 'NRMSE_i'),))\n",
    "\n",
    "excellent=create_catagory_df(excellent_df, 'cre', 'amp', 'excellent')\n",
    "good=create_catagory_df(good_df, 'cre', 'amp', 'good')\n",
    "cat_sig_diff([excellent, good], 'cre', data_type='log_', variables=(('amp_v', 'amp_i'),))\n",
    "\n",
    "excellent=create_catagory_df(excellent_df, 'cre', 'rise_time', 'excellent')\n",
    "good=create_catagory_df(good_df, 'cre', 'rise_time', 'good')\n",
    "cat_sig_diff([excellent, good], 'cre', data_type='log_', variables=(('rise_time_v', 'rise_time_i'),))\n",
    "\n",
    "excellent=create_catagory_df(excellent_df, 'cre', 'latency', 'excellent')\n",
    "good=create_catagory_df(good_df, 'cre', 'latency', 'good')\n",
    "cat_sig_diff([excellent, good], 'cre', data_type='', variables=(('latency_v', 'latency_i'),))"
   ]
  },
  {
   "cell_type": "markdown",
   "metadata": {},
   "source": [
    "# LAYERS"
   ]
  },
  {
   "cell_type": "markdown",
   "metadata": {},
   "source": [
    "## Layer groups available in the data"
   ]
  },
  {
   "cell_type": "code",
   "execution_count": null,
   "metadata": {},
   "outputs": [],
   "source": [
    "# look at what is in data sets\n",
    "print('excellent fits')\n",
    "print(excellent_df.groupby(['pre_layer', 'post_layer']).size())\n",
    "\n",
    "print('\\ngood fits')\n",
    "print(good_df.groupby(['pre_layer', 'post_layer']).size())"
   ]
  },
  {
   "cell_type": "markdown",
   "metadata": {},
   "source": [
    "## Regression significance for different layer catagories\n",
    "### Results\n",
    "NRMSE: all except layer 6 are significant in both 'excellent' and 'well' fit. <br>\n",
    "AMPLITUDE:  all are significant in both 'excellent' and 'well' fit. <br>\n",
    "RISE_TAU: 2, 2/3, and 5 are significant in 'excellent' fit. In 'well' all except 3 are significant. <br>\n",
    "LATENCY: all are significant in both 'excellent' and 'well' fit. <br>\n",
    "\n",
    "'Excellent fit' data shown on the left and 'well fit' data on the right. <br>  "
   ]
  },
  {
   "cell_type": "code",
   "execution_count": null,
   "metadata": {
    "scrolled": true
   },
   "outputs": [],
   "source": [
    "#plot all the data\n",
    "regression_significance([excellent_df, good_df], 'layer', data_type='log_', variables=(\n",
    "               ('NRMSE_v', 'NRMSE_i'),\n",
    "               ('amp_v', 'amp_i'),\n",
    "               ('rise_time_v', 'rise_time_i')))\n",
    "regression_significance([excellent_df, good_df], 'layer', data_type='', variables=(\n",
    "               ('latency_v', 'latency_i'),\n",
    "               ('decay_tau_v', 'decay_tau_i'))) "
   ]
  },
  {
   "cell_type": "markdown",
   "metadata": {},
   "source": [
    "## Are layers with statistically significant regression lines significantly different from one another?"
   ]
  },
  {
   "cell_type": "code",
   "execution_count": null,
   "metadata": {},
   "outputs": [],
   "source": [
    "#Merging catagory and stat sig from above\n",
    "excellent=create_catagory_df(excellent_df, 'layer', 'NRMSE', 'excellent')\n",
    "good=create_catagory_df(good_df, 'layer', 'NRMSE', 'good')\n",
    "cat_sig_diff([excellent, good], 'layer', data_type='log_', variables=(('NRMSE_v', 'NRMSE_i'),))\n",
    "\n",
    "excellent=create_catagory_df(excellent_df, 'layer', 'amp', 'excellent')\n",
    "good=create_catagory_df(good_df, 'layer', 'amp', 'good')\n",
    "cat_sig_diff([excellent, good], 'layer', data_type='log_', variables=(('amp_v', 'amp_i'),))\n",
    "\n",
    "excellent=create_catagory_df(excellent_df, 'layer', 'rise_time', 'excellent')\n",
    "good=create_catagory_df(good_df, 'layer', 'rise_time', 'good')\n",
    "cat_sig_diff([excellent, good], 'layer', data_type='log_', variables=(('rise_time_v', 'rise_time_i'),))\n",
    "\n",
    "excellent=create_catagory_df(excellent_df, 'layer', 'latency', 'excellent')\n",
    "good=create_catagory_df(good_df, 'layer', 'latency', 'good')\n",
    "cat_sig_diff([excellent, good], 'layer', data_type='', variables=(('latency_v', 'latency_i'),))"
   ]
  },
  {
   "cell_type": "markdown",
   "metadata": {},
   "source": [
    "# Images of the voltage (left) and current clamp (right) of 'excellent' fits"
   ]
  },
  {
   "cell_type": "code",
   "execution_count": null,
   "metadata": {},
   "outputs": [],
   "source": [
    "from IPython.display import Image, display \n",
    "import matplotlib.image as mpimg\n",
    "for p in excellent_df[['image_path_i', 'image_path_v']].iterrows():\n",
    "    f=plt.figure(figsize=(20,10))\n",
    "    f.add_subplot(121)\n",
    "    plt.imshow(mpimg.imread(p[1].image_path_i))\n",
    "    plt.axis('off')\n",
    "    f.add_subplot(122)\n",
    "    plt.imshow(mpimg.imread(p[1].image_path_v)) \n",
    "    plt.axis('off')\n",
    "    plt.show()"
   ]
  },
  {
   "cell_type": "markdown",
   "metadata": {},
   "source": [
    "# Images of the voltage (left) and current clamp (right) of 'well' fit data"
   ]
  },
  {
   "cell_type": "code",
   "execution_count": null,
   "metadata": {},
   "outputs": [],
   "source": [
    "only_good_df=merged_df[(((merged_df['good_fit_i']=='excellent') | (merged_df['good_fit_i']=='good')) & \n",
    "                       ((merged_df['good_fit_v']=='excellent') | (merged_df['good_fit_v']=='good')) & \n",
    "                       ((merged_df['data_clarity_v']=='well') | (merged_df['data_clarity_v']=='ok')) & \n",
    "                       ((merged_df['data_clarity_i']=='well') | (merged_df['data_clarity_i']=='ok'))) &\n",
    "                       ~(((merged_df['good_fit_i']=='excellent') & (merged_df['good_fit_v']=='excellent')) & \n",
    "                      ((merged_df['data_clarity_v']=='well') & (merged_df['data_clarity_i']=='well')))]\n",
    "for p in only_good_df[['image_path_i', 'image_path_v']].iterrows():\n",
    "    f=plt.figure(figsize=(20,10))\n",
    "    f.add_subplot(121)\n",
    "    plt.imshow(mpimg.imread(p[1].image_path_i))\n",
    "    plt.axis('off')\n",
    "    f.add_subplot(122)\n",
    "    plt.imshow(mpimg.imread(p[1].image_path_v)) \n",
    "    plt.axis('off')\n",
    "    plt.show()\n"
   ]
  },
  {
   "cell_type": "markdown",
   "metadata": {},
   "source": [
    "# Images of the voltage (left) and current clamp (right) of other fits"
   ]
  },
  {
   "cell_type": "code",
   "execution_count": null,
   "metadata": {
    "scrolled": false
   },
   "outputs": [],
   "source": [
    "other_df=merged_df[~(((merged_df['good_fit_i']=='excellent') | (merged_df['good_fit_i']=='good')) & \n",
    "                       ((merged_df['good_fit_v']=='excellent') | (merged_df['good_fit_v']=='good')) & \n",
    "                       ((merged_df['data_clarity_v']=='well') | (merged_df['data_clarity_v']=='ok')) & \n",
    "                       ((merged_df['data_clarity_i']=='well') | (merged_df['data_clarity_i']=='ok'))) &\n",
    "                       ~(((merged_df['good_fit_i']=='excellent') & (merged_df['good_fit_v']=='excellent')) & \n",
    "                      ((merged_df['data_clarity_v']=='well') & (merged_df['data_clarity_i']=='well')))]\n",
    "for p in other_df[['image_path_i', 'image_path_v']].iterrows():\n",
    "    f=plt.figure(figsize=(20,10))\n",
    "    f.add_subplot(121)\n",
    "    try:\n",
    "        plt.imshow(mpimg.imread(p[1].image_path_i))\n",
    "        plt.axis('off')\n",
    "        f.add_subplot(122)\n",
    "        plt.imshow(mpimg.imread(p[1].image_path_v)) \n",
    "        plt.axis('off')\n",
    "        plt.show()\n",
    "    except:\n",
    "        pass"
   ]
  }
 ],
 "metadata": {
  "kernelspec": {
   "display_name": "Python 2",
   "language": "python",
   "name": "python2"
  },
  "language_info": {
   "codemirror_mode": {
    "name": "ipython",
    "version": 2
   },
   "file_extension": ".py",
   "mimetype": "text/x-python",
   "name": "python",
   "nbconvert_exporter": "python",
   "pygments_lexer": "ipython2",
   "version": "2.7.15"
  }
 },
 "nbformat": 4,
 "nbformat_minor": 2
}
